{
  "cells": [
    {
      "cell_type": "markdown",
      "metadata": {
        "id": "view-in-github",
        "colab_type": "text"
      },
      "source": [
        "<a href=\"https://colab.research.google.com/github/Ivasquez2003/Data-Mining/blob/main/Linear_Regression_Example_with_the_Fire_Data.ipynb\" target=\"_parent\"><img src=\"https://colab.research.google.com/assets/colab-badge.svg\" alt=\"Open In Colab\"/></a>"
      ]
    },
    {
      "cell_type": "markdown",
      "metadata": {
        "id": "FfmL0yC5jYkD"
      },
      "source": [
        "# How to make predictions with a linear regression model"
      ]
    },
    {
      "cell_type": "markdown",
      "source": [
        "Completed by Isis Vasquez\n",
        "Date: 1/28/2025\n"
      ],
      "metadata": {
        "id": "Gx05X7sKUGCU"
      }
    },
    {
      "cell_type": "code",
      "execution_count": null,
      "metadata": {
        "id": "DOz0Uo8njYkF"
      },
      "outputs": [],
      "source": [
        "import pandas as pd #file processing\n",
        "import seaborn as sns #visualizations\n",
        "from sklearn.metrics import mean_absolute_error, mean_squared_error, r2_score #metrics\n",
        "import numpy as np #math"
      ]
    },
    {
      "cell_type": "markdown",
      "metadata": {
        "id": "LUzdsMhpjYkG"
      },
      "source": [
        "## Get the data (csv from url referencing github raw data view)"
      ]
    },
    {
      "cell_type": "code",
      "execution_count": null,
      "metadata": {
        "id": "apaQY18CjYkG"
      },
      "outputs": [],
      "source": [
        "fireIncidents = 'https://raw.githubusercontent.com/Ivasquez2003/Data-Mining/refs/heads/main/California_Fire_Incidents.csv'\n",
        "fire = pd.read_csv(fireIncidents)"
      ]
    },
    {
      "cell_type": "markdown",
      "source": [
        "### This creates a new filtered dataframe named housing"
      ],
      "metadata": {
        "id": "UlO0MmMhjsQR"
      }
    },
    {
      "cell_type": "code",
      "execution_count": null,
      "metadata": {
        "id": "u9lo8NKwjYkG"
      },
      "outputs": [],
      "source": [
        "#fire = fire.query('acres_burned < 30000 and injuries < 100 and injuries > 0')"
      ]
    },
    {
      "cell_type": "markdown",
      "source": [
        "### This code creates a new boolean feature 'has_basement'"
      ],
      "metadata": {
        "id": "fl-65CWtj8h4"
      }
    },
    {
      "cell_type": "code",
      "execution_count": null,
      "metadata": {
        "id": "SB73ubaujYkG"
      },
      "outputs": [],
      "source": [
        "#housing['has_basement'] = housing['sqft_basement'].apply(\n",
        "    #lambda x: True if x > 0 else False)"
      ]
    },
    {
      "cell_type": "markdown",
      "source": [
        "### Drop columns that are not necessary for the problem by only keeping columns that are necessary"
      ],
      "metadata": {
        "id": "BfUtmKvjkG3w"
      }
    },
    {
      "cell_type": "code",
      "execution_count": null,
      "metadata": {
        "id": "RPqASdaXjYkH"
      },
      "outputs": [],
      "source": [
        "columns_to_keep = ['AcresBurned', 'PersonnelInvolved','MajorIncident','StructuresDestroyed','Injuries',\n",
        "                   'WaterTenders']\n",
        "fire = fire[columns_to_keep]"
      ]
    },
    {
      "cell_type": "markdown",
      "metadata": {
        "id": "dTGNXJ-XjYkH"
      },
      "source": [
        "## The Fires dataset"
      ]
    },
    {
      "cell_type": "code",
      "execution_count": null,
      "metadata": {
        "id": "mfcanvSZjYkH",
        "outputId": "e625c27f-3e84-4b3f-90c0-611f78221744",
        "colab": {
          "base_uri": "https://localhost:8080/"
        }
      },
      "outputs": [
        {
          "output_type": "stream",
          "name": "stdout",
          "text": [
            "<class 'pandas.core.frame.DataFrame'>\n",
            "RangeIndex: 1636 entries, 0 to 1635\n",
            "Data columns (total 6 columns):\n",
            " #   Column               Non-Null Count  Dtype  \n",
            "---  ------               --------------  -----  \n",
            " 0   AcresBurned          1633 non-null   float64\n",
            " 1   PersonnelInvolved    204 non-null    float64\n",
            " 2   MajorIncident        1636 non-null   bool   \n",
            " 3   StructuresDestroyed  175 non-null    float64\n",
            " 4   Injuries             120 non-null    float64\n",
            " 5   WaterTenders         146 non-null    float64\n",
            "dtypes: bool(1), float64(5)\n",
            "memory usage: 65.6 KB\n"
          ]
        }
      ],
      "source": [
        "fire.info()"
      ]
    },
    {
      "cell_type": "code",
      "execution_count": null,
      "metadata": {
        "id": "AUV8ZCGajYkH",
        "outputId": "eb6f0768-6b08-40b0-8184-26e224508af6",
        "colab": {
          "base_uri": "https://localhost:8080/",
          "height": 363
        }
      },
      "outputs": [
        {
          "output_type": "execute_result",
          "data": {
            "text/plain": [
              "   AcresBurned  PersonnelInvolved  MajorIncident  StructuresDestroyed  \\\n",
              "0     257314.0                NaN          False                  NaN   \n",
              "1      30274.0                NaN          False                  NaN   \n",
              "2      27531.0                NaN          False                  NaN   \n",
              "3      27440.0                NaN          False                  NaN   \n",
              "4      24251.0             2167.0           True                 10.0   \n",
              "5      22992.0                NaN          False                  NaN   \n",
              "6      20292.0             2106.0           True                 40.0   \n",
              "7      14754.0                NaN          False                  NaN   \n",
              "8      12503.0                NaN          False                  NaN   \n",
              "9      11429.0              898.0           True                  NaN   \n",
              "\n",
              "   Injuries  WaterTenders  \n",
              "0       NaN           NaN  \n",
              "1       NaN           NaN  \n",
              "2       NaN           NaN  \n",
              "3       NaN           NaN  \n",
              "4      10.0          11.0  \n",
              "5       NaN           NaN  \n",
              "6      26.0          20.0  \n",
              "7       NaN           NaN  \n",
              "8       NaN           NaN  \n",
              "9       5.0           8.0  "
            ],
            "text/html": [
              "\n",
              "  <div id=\"df-8b6628d8-1419-46a8-8e11-73bd4527bd27\" class=\"colab-df-container\">\n",
              "    <div>\n",
              "<style scoped>\n",
              "    .dataframe tbody tr th:only-of-type {\n",
              "        vertical-align: middle;\n",
              "    }\n",
              "\n",
              "    .dataframe tbody tr th {\n",
              "        vertical-align: top;\n",
              "    }\n",
              "\n",
              "    .dataframe thead th {\n",
              "        text-align: right;\n",
              "    }\n",
              "</style>\n",
              "<table border=\"1\" class=\"dataframe\">\n",
              "  <thead>\n",
              "    <tr style=\"text-align: right;\">\n",
              "      <th></th>\n",
              "      <th>AcresBurned</th>\n",
              "      <th>PersonnelInvolved</th>\n",
              "      <th>MajorIncident</th>\n",
              "      <th>StructuresDestroyed</th>\n",
              "      <th>Injuries</th>\n",
              "      <th>WaterTenders</th>\n",
              "    </tr>\n",
              "  </thead>\n",
              "  <tbody>\n",
              "    <tr>\n",
              "      <th>0</th>\n",
              "      <td>257314.0</td>\n",
              "      <td>NaN</td>\n",
              "      <td>False</td>\n",
              "      <td>NaN</td>\n",
              "      <td>NaN</td>\n",
              "      <td>NaN</td>\n",
              "    </tr>\n",
              "    <tr>\n",
              "      <th>1</th>\n",
              "      <td>30274.0</td>\n",
              "      <td>NaN</td>\n",
              "      <td>False</td>\n",
              "      <td>NaN</td>\n",
              "      <td>NaN</td>\n",
              "      <td>NaN</td>\n",
              "    </tr>\n",
              "    <tr>\n",
              "      <th>2</th>\n",
              "      <td>27531.0</td>\n",
              "      <td>NaN</td>\n",
              "      <td>False</td>\n",
              "      <td>NaN</td>\n",
              "      <td>NaN</td>\n",
              "      <td>NaN</td>\n",
              "    </tr>\n",
              "    <tr>\n",
              "      <th>3</th>\n",
              "      <td>27440.0</td>\n",
              "      <td>NaN</td>\n",
              "      <td>False</td>\n",
              "      <td>NaN</td>\n",
              "      <td>NaN</td>\n",
              "      <td>NaN</td>\n",
              "    </tr>\n",
              "    <tr>\n",
              "      <th>4</th>\n",
              "      <td>24251.0</td>\n",
              "      <td>2167.0</td>\n",
              "      <td>True</td>\n",
              "      <td>10.0</td>\n",
              "      <td>10.0</td>\n",
              "      <td>11.0</td>\n",
              "    </tr>\n",
              "    <tr>\n",
              "      <th>5</th>\n",
              "      <td>22992.0</td>\n",
              "      <td>NaN</td>\n",
              "      <td>False</td>\n",
              "      <td>NaN</td>\n",
              "      <td>NaN</td>\n",
              "      <td>NaN</td>\n",
              "    </tr>\n",
              "    <tr>\n",
              "      <th>6</th>\n",
              "      <td>20292.0</td>\n",
              "      <td>2106.0</td>\n",
              "      <td>True</td>\n",
              "      <td>40.0</td>\n",
              "      <td>26.0</td>\n",
              "      <td>20.0</td>\n",
              "    </tr>\n",
              "    <tr>\n",
              "      <th>7</th>\n",
              "      <td>14754.0</td>\n",
              "      <td>NaN</td>\n",
              "      <td>False</td>\n",
              "      <td>NaN</td>\n",
              "      <td>NaN</td>\n",
              "      <td>NaN</td>\n",
              "    </tr>\n",
              "    <tr>\n",
              "      <th>8</th>\n",
              "      <td>12503.0</td>\n",
              "      <td>NaN</td>\n",
              "      <td>False</td>\n",
              "      <td>NaN</td>\n",
              "      <td>NaN</td>\n",
              "      <td>NaN</td>\n",
              "    </tr>\n",
              "    <tr>\n",
              "      <th>9</th>\n",
              "      <td>11429.0</td>\n",
              "      <td>898.0</td>\n",
              "      <td>True</td>\n",
              "      <td>NaN</td>\n",
              "      <td>5.0</td>\n",
              "      <td>8.0</td>\n",
              "    </tr>\n",
              "  </tbody>\n",
              "</table>\n",
              "</div>\n",
              "    <div class=\"colab-df-buttons\">\n",
              "\n",
              "  <div class=\"colab-df-container\">\n",
              "    <button class=\"colab-df-convert\" onclick=\"convertToInteractive('df-8b6628d8-1419-46a8-8e11-73bd4527bd27')\"\n",
              "            title=\"Convert this dataframe to an interactive table.\"\n",
              "            style=\"display:none;\">\n",
              "\n",
              "  <svg xmlns=\"http://www.w3.org/2000/svg\" height=\"24px\" viewBox=\"0 -960 960 960\">\n",
              "    <path d=\"M120-120v-720h720v720H120Zm60-500h600v-160H180v160Zm220 220h160v-160H400v160Zm0 220h160v-160H400v160ZM180-400h160v-160H180v160Zm440 0h160v-160H620v160ZM180-180h160v-160H180v160Zm440 0h160v-160H620v160Z\"/>\n",
              "  </svg>\n",
              "    </button>\n",
              "\n",
              "  <style>\n",
              "    .colab-df-container {\n",
              "      display:flex;\n",
              "      gap: 12px;\n",
              "    }\n",
              "\n",
              "    .colab-df-convert {\n",
              "      background-color: #E8F0FE;\n",
              "      border: none;\n",
              "      border-radius: 50%;\n",
              "      cursor: pointer;\n",
              "      display: none;\n",
              "      fill: #1967D2;\n",
              "      height: 32px;\n",
              "      padding: 0 0 0 0;\n",
              "      width: 32px;\n",
              "    }\n",
              "\n",
              "    .colab-df-convert:hover {\n",
              "      background-color: #E2EBFA;\n",
              "      box-shadow: 0px 1px 2px rgba(60, 64, 67, 0.3), 0px 1px 3px 1px rgba(60, 64, 67, 0.15);\n",
              "      fill: #174EA6;\n",
              "    }\n",
              "\n",
              "    .colab-df-buttons div {\n",
              "      margin-bottom: 4px;\n",
              "    }\n",
              "\n",
              "    [theme=dark] .colab-df-convert {\n",
              "      background-color: #3B4455;\n",
              "      fill: #D2E3FC;\n",
              "    }\n",
              "\n",
              "    [theme=dark] .colab-df-convert:hover {\n",
              "      background-color: #434B5C;\n",
              "      box-shadow: 0px 1px 3px 1px rgba(0, 0, 0, 0.15);\n",
              "      filter: drop-shadow(0px 1px 2px rgba(0, 0, 0, 0.3));\n",
              "      fill: #FFFFFF;\n",
              "    }\n",
              "  </style>\n",
              "\n",
              "    <script>\n",
              "      const buttonEl =\n",
              "        document.querySelector('#df-8b6628d8-1419-46a8-8e11-73bd4527bd27 button.colab-df-convert');\n",
              "      buttonEl.style.display =\n",
              "        google.colab.kernel.accessAllowed ? 'block' : 'none';\n",
              "\n",
              "      async function convertToInteractive(key) {\n",
              "        const element = document.querySelector('#df-8b6628d8-1419-46a8-8e11-73bd4527bd27');\n",
              "        const dataTable =\n",
              "          await google.colab.kernel.invokeFunction('convertToInteractive',\n",
              "                                                    [key], {});\n",
              "        if (!dataTable) return;\n",
              "\n",
              "        const docLinkHtml = 'Like what you see? Visit the ' +\n",
              "          '<a target=\"_blank\" href=https://colab.research.google.com/notebooks/data_table.ipynb>data table notebook</a>'\n",
              "          + ' to learn more about interactive tables.';\n",
              "        element.innerHTML = '';\n",
              "        dataTable['output_type'] = 'display_data';\n",
              "        await google.colab.output.renderOutput(dataTable, element);\n",
              "        const docLink = document.createElement('div');\n",
              "        docLink.innerHTML = docLinkHtml;\n",
              "        element.appendChild(docLink);\n",
              "      }\n",
              "    </script>\n",
              "  </div>\n",
              "\n",
              "\n",
              "<div id=\"df-0751e0ad-a15f-407c-a200-a61754c017f0\">\n",
              "  <button class=\"colab-df-quickchart\" onclick=\"quickchart('df-0751e0ad-a15f-407c-a200-a61754c017f0')\"\n",
              "            title=\"Suggest charts\"\n",
              "            style=\"display:none;\">\n",
              "\n",
              "<svg xmlns=\"http://www.w3.org/2000/svg\" height=\"24px\"viewBox=\"0 0 24 24\"\n",
              "     width=\"24px\">\n",
              "    <g>\n",
              "        <path d=\"M19 3H5c-1.1 0-2 .9-2 2v14c0 1.1.9 2 2 2h14c1.1 0 2-.9 2-2V5c0-1.1-.9-2-2-2zM9 17H7v-7h2v7zm4 0h-2V7h2v10zm4 0h-2v-4h2v4z\"/>\n",
              "    </g>\n",
              "</svg>\n",
              "  </button>\n",
              "\n",
              "<style>\n",
              "  .colab-df-quickchart {\n",
              "      --bg-color: #E8F0FE;\n",
              "      --fill-color: #1967D2;\n",
              "      --hover-bg-color: #E2EBFA;\n",
              "      --hover-fill-color: #174EA6;\n",
              "      --disabled-fill-color: #AAA;\n",
              "      --disabled-bg-color: #DDD;\n",
              "  }\n",
              "\n",
              "  [theme=dark] .colab-df-quickchart {\n",
              "      --bg-color: #3B4455;\n",
              "      --fill-color: #D2E3FC;\n",
              "      --hover-bg-color: #434B5C;\n",
              "      --hover-fill-color: #FFFFFF;\n",
              "      --disabled-bg-color: #3B4455;\n",
              "      --disabled-fill-color: #666;\n",
              "  }\n",
              "\n",
              "  .colab-df-quickchart {\n",
              "    background-color: var(--bg-color);\n",
              "    border: none;\n",
              "    border-radius: 50%;\n",
              "    cursor: pointer;\n",
              "    display: none;\n",
              "    fill: var(--fill-color);\n",
              "    height: 32px;\n",
              "    padding: 0;\n",
              "    width: 32px;\n",
              "  }\n",
              "\n",
              "  .colab-df-quickchart:hover {\n",
              "    background-color: var(--hover-bg-color);\n",
              "    box-shadow: 0 1px 2px rgba(60, 64, 67, 0.3), 0 1px 3px 1px rgba(60, 64, 67, 0.15);\n",
              "    fill: var(--button-hover-fill-color);\n",
              "  }\n",
              "\n",
              "  .colab-df-quickchart-complete:disabled,\n",
              "  .colab-df-quickchart-complete:disabled:hover {\n",
              "    background-color: var(--disabled-bg-color);\n",
              "    fill: var(--disabled-fill-color);\n",
              "    box-shadow: none;\n",
              "  }\n",
              "\n",
              "  .colab-df-spinner {\n",
              "    border: 2px solid var(--fill-color);\n",
              "    border-color: transparent;\n",
              "    border-bottom-color: var(--fill-color);\n",
              "    animation:\n",
              "      spin 1s steps(1) infinite;\n",
              "  }\n",
              "\n",
              "  @keyframes spin {\n",
              "    0% {\n",
              "      border-color: transparent;\n",
              "      border-bottom-color: var(--fill-color);\n",
              "      border-left-color: var(--fill-color);\n",
              "    }\n",
              "    20% {\n",
              "      border-color: transparent;\n",
              "      border-left-color: var(--fill-color);\n",
              "      border-top-color: var(--fill-color);\n",
              "    }\n",
              "    30% {\n",
              "      border-color: transparent;\n",
              "      border-left-color: var(--fill-color);\n",
              "      border-top-color: var(--fill-color);\n",
              "      border-right-color: var(--fill-color);\n",
              "    }\n",
              "    40% {\n",
              "      border-color: transparent;\n",
              "      border-right-color: var(--fill-color);\n",
              "      border-top-color: var(--fill-color);\n",
              "    }\n",
              "    60% {\n",
              "      border-color: transparent;\n",
              "      border-right-color: var(--fill-color);\n",
              "    }\n",
              "    80% {\n",
              "      border-color: transparent;\n",
              "      border-right-color: var(--fill-color);\n",
              "      border-bottom-color: var(--fill-color);\n",
              "    }\n",
              "    90% {\n",
              "      border-color: transparent;\n",
              "      border-bottom-color: var(--fill-color);\n",
              "    }\n",
              "  }\n",
              "</style>\n",
              "\n",
              "  <script>\n",
              "    async function quickchart(key) {\n",
              "      const quickchartButtonEl =\n",
              "        document.querySelector('#' + key + ' button');\n",
              "      quickchartButtonEl.disabled = true;  // To prevent multiple clicks.\n",
              "      quickchartButtonEl.classList.add('colab-df-spinner');\n",
              "      try {\n",
              "        const charts = await google.colab.kernel.invokeFunction(\n",
              "            'suggestCharts', [key], {});\n",
              "      } catch (error) {\n",
              "        console.error('Error during call to suggestCharts:', error);\n",
              "      }\n",
              "      quickchartButtonEl.classList.remove('colab-df-spinner');\n",
              "      quickchartButtonEl.classList.add('colab-df-quickchart-complete');\n",
              "    }\n",
              "    (() => {\n",
              "      let quickchartButtonEl =\n",
              "        document.querySelector('#df-0751e0ad-a15f-407c-a200-a61754c017f0 button');\n",
              "      quickchartButtonEl.style.display =\n",
              "        google.colab.kernel.accessAllowed ? 'block' : 'none';\n",
              "    })();\n",
              "  </script>\n",
              "</div>\n",
              "\n",
              "    </div>\n",
              "  </div>\n"
            ],
            "application/vnd.google.colaboratory.intrinsic+json": {
              "type": "dataframe",
              "variable_name": "fire",
              "summary": "{\n  \"name\": \"fire\",\n  \"rows\": 1636,\n  \"fields\": [\n    {\n      \"column\": \"AcresBurned\",\n      \"properties\": {\n        \"dtype\": \"number\",\n        \"std\": 27266.33772173285,\n        \"min\": 0.0,\n        \"max\": 410203.0,\n        \"num_unique_values\": 634,\n        \"samples\": [\n          2207.0,\n          111.0,\n          1049.0\n        ],\n        \"semantic_type\": \"\",\n        \"description\": \"\"\n      }\n    },\n    {\n      \"column\": \"PersonnelInvolved\",\n      \"properties\": {\n        \"dtype\": \"number\",\n        \"std\": 521.1387890689297,\n        \"min\": 0.0,\n        \"max\": 3100.0,\n        \"num_unique_values\": 151,\n        \"samples\": [\n          275.0,\n          259.0,\n          70.0\n        ],\n        \"semantic_type\": \"\",\n        \"description\": \"\"\n      }\n    },\n    {\n      \"column\": \"MajorIncident\",\n      \"properties\": {\n        \"dtype\": \"boolean\",\n        \"num_unique_values\": 2,\n        \"samples\": [\n          true,\n          false\n        ],\n        \"semantic_type\": \"\",\n        \"description\": \"\"\n      }\n    },\n    {\n      \"column\": \"StructuresDestroyed\",\n      \"properties\": {\n        \"dtype\": \"number\",\n        \"std\": 1557.2559626477494,\n        \"min\": 0.0,\n        \"max\": 18804.0,\n        \"num_unique_values\": 61,\n        \"samples\": [\n          10.0,\n          7.0\n        ],\n        \"semantic_type\": \"\",\n        \"description\": \"\"\n      }\n    },\n    {\n      \"column\": \"Injuries\",\n      \"properties\": {\n        \"dtype\": \"number\",\n        \"std\": 3.806231069967139,\n        \"min\": 0.0,\n        \"max\": 26.0,\n        \"num_unique_values\": 17,\n        \"samples\": [\n          10.0,\n          26.0\n        ],\n        \"semantic_type\": \"\",\n        \"description\": \"\"\n      }\n    },\n    {\n      \"column\": \"WaterTenders\",\n      \"properties\": {\n        \"dtype\": \"number\",\n        \"std\": 12.719251455234433,\n        \"min\": 1.0,\n        \"max\": 79.0,\n        \"num_unique_values\": 24,\n        \"samples\": [\n          26.0,\n          18.0\n        ],\n        \"semantic_type\": \"\",\n        \"description\": \"\"\n      }\n    }\n  ]\n}"
            }
          },
          "metadata": {},
          "execution_count": 7
        }
      ],
      "source": [
        "fire.head(10)"
      ]
    },
    {
      "cell_type": "markdown",
      "metadata": {
        "id": "Z7K1u9g6jYkI"
      },
      "source": [
        "## How to identify correlations/trends with a scatterplot"
      ]
    },
    {
      "cell_type": "code",
      "execution_count": null,
      "metadata": {
        "id": "2HCYS7oejYkI",
        "outputId": "8da0e42a-b266-4906-ce86-a5b4e4c18a69",
        "colab": {
          "base_uri": "https://localhost:8080/",
          "height": 524
        }
      },
      "outputs": [
        {
          "output_type": "execute_result",
          "data": {
            "text/plain": [
              "<seaborn.axisgrid.FacetGrid at 0x7a324e988b90>"
            ]
          },
          "metadata": {},
          "execution_count": 8
        },
        {
          "output_type": "display_data",
          "data": {
            "text/plain": [
              "<Figure size 500x500 with 1 Axes>"
            ],
            "image/png": "[encoded data removed]"
          },
          "metadata": {}
        }
      ],
      "source": [
        "sns.relplot(data=fire, x='AcresBurned', y='PersonnelInvolved')"
      ]
    },
    {
      "cell_type": "code",
      "source": [
        "fire_clean= fire.dropna(subset =['AcresBurned','PersonnelInvolved','MajorIncident','StructuresDestroyed','Injuries','WaterTenders'])"
      ],
      "metadata": {
        "id": "N_FF0JPAp3Xm"
      },
      "execution_count": 37,
      "outputs": []
    },
    {
      "cell_type": "code",
      "source": [
        "fire_clean.info()"
      ],
      "metadata": {
        "id": "ZuEJ9WWIqWrN",
        "outputId": "e0bfda9e-4a14-4479-ea16-bc2e6fc4225b",
        "colab": {
          "base_uri": "https://localhost:8080/"
        }
      },
      "execution_count": 38,
      "outputs": [
        {
          "output_type": "stream",
          "name": "stdout",
          "text": [
            "<class 'pandas.core.frame.DataFrame'>\n",
            "Index: 35 entries, 4 to 1462\n",
            "Data columns (total 6 columns):\n",
            " #   Column               Non-Null Count  Dtype  \n",
            "---  ------               --------------  -----  \n",
            " 0   AcresBurned          35 non-null     float64\n",
            " 1   PersonnelInvolved    35 non-null     float64\n",
            " 2   MajorIncident        35 non-null     bool   \n",
            " 3   StructuresDestroyed  35 non-null     float64\n",
            " 4   Injuries             35 non-null     float64\n",
            " 5   WaterTenders         35 non-null     float64\n",
            "dtypes: bool(1), float64(5)\n",
            "memory usage: 1.7 KB\n"
          ]
        }
      ]
    },
    {
      "cell_type": "markdown",
      "source": [
        "###for this example, we are replacing all nulls with 0. This changes the data."
      ],
      "metadata": {
        "id": "P5_MXMikrzhQ"
      }
    },
    {
      "cell_type": "code",
      "source": [
        "fire_clean = fire_clean.fillna(0)"
      ],
      "metadata": {
        "id": "o7Xw368Kr5Wt"
      },
      "execution_count": null,
      "outputs": []
    },
    {
      "cell_type": "code",
      "execution_count": null,
      "metadata": {
        "id": "0uUt9Ou1jYkI"
      },
      "outputs": [],
      "source": [
        "#sns.relplot(data=fire, x='yr_built', y='price') #relationship plot"
      ]
    },
    {
      "cell_type": "markdown",
      "metadata": {
        "id": "N8g_yf0LjYkI"
      },
      "source": [
        "## How to identify correlations with a grid of scatterplots"
      ]
    },
    {
      "cell_type": "code",
      "execution_count": null,
      "metadata": {
        "id": "oX4gKiDWjYkI"
      },
      "outputs": [],
      "source": [
        "#sns.pairplot(data=housing,\n",
        "            # y_vars=['price','sqft_living','sqft_above'],\n",
        "            # x_vars=['price','sqft_living','sqft_above'],\n",
        "             #diag_kind='kde')"
      ]
    },
    {
      "cell_type": "markdown",
      "metadata": {
        "id": "C5bCUHQRjYkI"
      },
      "source": [
        "## How to identify correlations with r-values"
      ]
    },
    {
      "cell_type": "code",
      "execution_count": null,
      "metadata": {
        "id": "Hz1gndrdjYkI"
      },
      "outputs": [],
      "source": [
        "#housing.corr().head()"
      ]
    },
    {
      "cell_type": "code",
      "execution_count": null,
      "metadata": {
        "id": "Rq5JQekBjYkI"
      },
      "outputs": [],
      "source": [
        "#housing.corr()[['price']].sort_values(by='price', ascending=False) #shows corr of each feature to price (note: price = 1)"
      ]
    },
    {
      "cell_type": "markdown",
      "metadata": {
        "id": "n0HtZK7xjYkI"
      },
      "source": [
        "## How to identify correlations with a heatmap"
      ]
    },
    {
      "cell_type": "code",
      "execution_count": null,
      "metadata": {
        "id": "7ZDI1LKjjYkI"
      },
      "outputs": [],
      "source": [
        "#sns.heatmap(data=housing.corr(), cmap='Blues', vmin=-1.0, vmax=1.0)"
      ]
    },
    {
      "cell_type": "code",
      "execution_count": null,
      "metadata": {
        "id": "C3EqEDubjYkJ"
      },
      "outputs": [],
      "source": [
        "#sns.heatmap(data=housing.corr()[['price']].sort_values(by='price', ascending=False),\n",
        "           # annot=True, cmap='Blues', cbar=False, fmt=f'.2f')"
      ]
    },
    {
      "cell_type": "markdown",
      "metadata": {
        "id": "5EmEWul5jYkJ"
      },
      "source": [
        "## How to create, validate, and use a linear regression model with scikit-learn\n",
        "<p>Link to documentation for scikit-learn: <a href=\"https://scikit-learn.org/stable/\">Scikit-Learn documentation</a></p>\n"
      ]
    },
    {
      "cell_type": "code",
      "execution_count": null,
      "metadata": {
        "id": "BbAeZrOXjYkJ"
      },
      "outputs": [],
      "source": [
        "from sklearn.model_selection import train_test_split\n",
        "from sklearn.linear_model import LinearRegression"
      ]
    },
    {
      "cell_type": "markdown",
      "source": [
        "### Explanation of x_train and test, y_train and test\n",
        "<p>\n",
        "x_train and x_test are the features (inputs).<br>\n",
        "y_train and y_test are the target variables (outputs).<br>\n",
        "The model separates the data 77% and 33% (train and test).<br>\n",
        "The model uses x_train and y_train to learn, then is tested on x_test and compared with y_test to see how well it generalizes.</p>\n",
        "<p>Random State Parameter: <br>\n",
        "Without random_state (or random_state=None): Every time you run the code, the data might be split in a different way because the random shuffling changes each time.</p><p>\n",
        "\n",
        "With random_state set to a specific number: The shuffling and splitting process will always be the same whenever you run the code, as long as the data doesn't change. This is useful for consistency, especially if you need to compare results across different runs or share your code with others and want them to get the same results.</p>"
      ],
      "metadata": {
        "id": "EqCVb7mMl5rM"
      }
    },
    {
      "cell_type": "code",
      "execution_count": 40,
      "metadata": {
        "id": "mGJtTk7HjYkJ",
        "outputId": "380f6571-1a9d-41f1-dc8a-89bdae2f748f",
        "colab": {
          "base_uri": "https://localhost:8080/"
        }
      },
      "outputs": [
        {
          "output_type": "execute_result",
          "data": {
            "text/plain": [
              "0.6957761545600663"
            ]
          },
          "metadata": {},
          "execution_count": 40
        }
      ],
      "source": [
        "X = fire_clean[['PersonnelInvolved', 'MajorIncident', 'StructuresDestroyed', 'Injuries', 'WaterTenders']]\n",
        "y = fire_clean['AcresBurned']\n",
        "\n",
        "# split the data\n",
        "x_train, x_test, y_train, y_test = train_test_split(\n",
        "    X, y,\n",
        "    test_size=0.33, random_state=42)\n",
        "\n",
        "# create the model from the training dataset\n",
        "linearModel = LinearRegression()\n",
        "linearModel.fit(x_train, y_train)\n",
        "\n",
        "# Get predictions from the model using the test data\n",
        "y_pred = linearModel.predict(x_test)\n",
        "\n",
        "# validate the model with the test dataset, this is the R squared score\n",
        "linearModel.score(x_test, y_test)"
      ]
    },
    {
      "cell_type": "markdown",
      "source": [
        "### Summary of the Scores\n",
        "<p>\n",
        "R² (R-squared): How well the model fits the data.<br>\n",
        "MAE (Mean Absolute Error): The average magnitude of errors in the predictions (in original units).<br>\n",
        "MSE (Mean Squared Error): The average of the squared errors (penalizes large errors).<br>\n",
        "RMSE (Root Mean Squared Error): The square root of MSE (in original units).<br>\n",
        "MAPE (Mean Absolute Percentage Error): Percentage error (useful when comparing across datasets with different scales).<br>\n",
        "</p>"
      ],
      "metadata": {
        "id": "1ENgThOYnc5P"
      }
    },
    {
      "cell_type": "code",
      "source": [
        "# R-squared score (already calculated with .score())\n",
        "r2 = linearModel.score(x_test, y_test)\n",
        "print(f\"R-squared: {r2:.3f}\")\n",
        "\n",
        "# Mean Absolute Error (MAE)\n",
        "mae = mean_absolute_error(y_test, y_pred)\n",
        "print(f\"Mean Absolute Error (MAE): {mae:.2f}\")\n",
        "\n",
        "# Mean Squared Error (MSE)\n",
        "mse = mean_squared_error(y_test, y_pred)\n",
        "print(f\"Mean Squared Error (MSE): {mse:.2f}\")\n",
        "\n",
        "# Root Mean Squared Error (RMSE)\n",
        "rmse = np.sqrt(mse)\n",
        "print(f\"Root Mean Squared Error (RMSE): {rmse:.2f}\")\n",
        "\n",
        "# Mean Absolute Percentage Error (MAPE)\n",
        "mape = np.mean(np.abs((y_test - y_pred) / y_test)) * 100\n",
        "print(f\"Mean Absolute Percentage Error (MAPE): {mape:.2f}%\")"
      ],
      "metadata": {
        "colab": {
          "base_uri": "https://localhost:8080/"
        },
        "id": "5853KIbVnauG",
        "outputId": "30e7872e-b0f9-4128-89fa-31941937d99d"
      },
      "execution_count": 41,
      "outputs": [
        {
          "output_type": "stream",
          "name": "stdout",
          "text": [
            "R-squared: 0.696\n",
            "Mean Absolute Error (MAE): 15278.98\n",
            "Mean Squared Error (MSE): 1183857705.80\n",
            "Root Mean Squared Error (RMSE): 34407.23\n",
            "Mean Absolute Percentage Error (MAPE): 1087.53%\n"
          ]
        }
      ]
    },
    {
      "cell_type": "markdown",
      "source": [
        "### Print the equation for the regression line"
      ],
      "metadata": {
        "id": "ZG-UUlDUm82M"
      }
    },
    {
      "cell_type": "code",
      "source": [
        "# Get the slope (coefficient) and intercept\n",
        "slope = linearModel.coef_[0][0]  # Get the first element as it's a single feature\n",
        "intercept = linearModel.intercept_[0]\n",
        "\n",
        "# Display the equation of the regression line\n",
        "print(f\"The equation of the regression line is: y = {slope:.2f}x + {intercept:.2f}\")"
      ],
      "metadata": {
        "id": "grYkGxgnm4Py",
        "colab": {
          "base_uri": "https://localhost:8080/"
        },
        "outputId": "9e63aa1c-3a54-4f7c-b2ae-278c256ace21"
      },
      "execution_count": null,
      "outputs": [
        {
          "output_type": "stream",
          "name": "stdout",
          "text": [
            "The equation of the regression line is: y = 11.42x + 4294.95\n"
          ]
        }
      ]
    },
    {
      "cell_type": "markdown",
      "source": [
        "### Explanation of Regression Line\n",
        "<p>The slope of 157.05 means each additional square foot increases the price by 157.05. The intercept of 160591.26 means that if the house has 0 squar feet (a theoritial baseline), the predicted price will be 160,591.26.</p>"
      ],
      "metadata": {
        "id": "46SVtcOz7dOJ"
      }
    },
    {
      "cell_type": "code",
      "execution_count": null,
      "metadata": {
        "id": "SqqMSPdfjYkJ",
        "outputId": "31e76cb7-534e-4420-c95f-408b0d0040bf",
        "colab": {
          "base_uri": "https://localhost:8080/"
        }
      },
      "outputs": [
        {
          "output_type": "execute_result",
          "data": {
            "text/plain": [
              "array([[10029.52769235],\n",
              "       [12588.3845399 ],\n",
              "       [ 7048.00252623],\n",
              "       [ 7379.28310025],\n",
              "       [20196.41427412],\n",
              "       [ 9172.76758714],\n",
              "       [12599.80800797],\n",
              "       [ 6008.46693192],\n",
              "       [ 4923.23746532],\n",
              "       [ 4694.76810393],\n",
              "       [12199.98662554],\n",
              "       [ 6488.25259083],\n",
              "       [ 5208.82416706],\n",
              "       [16460.94021543],\n",
              "       [ 5334.48231582],\n",
              "       [ 8041.84424827],\n",
              "       [ 4340.64059378],\n",
              "       [ 5528.681273  ],\n",
              "       [ 4900.39052918],\n",
              "       [ 5265.9415074 ],\n",
              "       [ 4751.88544428],\n",
              "       [ 4980.35480567],\n",
              "       [ 5665.76288983],\n",
              "       [ 7630.59939777],\n",
              "       [ 5403.02312424],\n",
              "       [ 7516.36471708],\n",
              "       [11446.03773296],\n",
              "       [ 4809.00278463],\n",
              "       [ 4386.33446606],\n",
              "       [ 6042.73733612],\n",
              "       [ 5437.29352845],\n",
              "       [ 4500.56914675],\n",
              "       [11743.04790276],\n",
              "       [ 6750.99235643],\n",
              "       [ 4786.15584849],\n",
              "       [14735.99653694],\n",
              "       [ 9983.83382007],\n",
              "       [ 4409.1814022 ],\n",
              "       [ 4923.23746532],\n",
              "       [ 7150.81373886],\n",
              "       [ 5608.64554949],\n",
              "       [ 5140.28335864],\n",
              "       [ 6465.40565469],\n",
              "       [ 4294.94672151],\n",
              "       [ 4980.35480567],\n",
              "       [ 5471.56393265],\n",
              "       [ 4454.87527448],\n",
              "       [ 6819.53316484],\n",
              "       [ 7253.62495148],\n",
              "       [ 5528.681273  ],\n",
              "       [39707.69773667],\n",
              "       [ 7116.54333465],\n",
              "       [ 8624.44111981],\n",
              "       [24982.8473952 ],\n",
              "       [39707.69773667],\n",
              "       [ 7150.81373886],\n",
              "       [ 8293.1605458 ],\n",
              "       [ 6808.10969678],\n",
              "       [ 4751.88544428],\n",
              "       [ 6648.1811438 ],\n",
              "       [ 4923.23746532],\n",
              "       [ 7367.85963218],\n",
              "       [ 4854.69665691],\n",
              "       [ 4797.57931656],\n",
              "       [21247.37333651],\n",
              "       [ 5185.97723092],\n",
              "       [ 5277.36497547],\n",
              "       [10954.82860597]])"
            ]
          },
          "metadata": {},
          "execution_count": 27
        }
      ],
      "source": [
        "# use the model to make predictions\n",
        "y_predicted = linearModel.predict(x_test)\n",
        "y_predicted"
      ]
    },
    {
      "cell_type": "markdown",
      "metadata": {
        "id": "oZaKWFHTjYkJ"
      },
      "source": [
        "## How to plot the predicted data"
      ]
    },
    {
      "cell_type": "code",
      "execution_count": null,
      "metadata": {
        "id": "_hRZbUMHjYkJ",
        "outputId": "a948b6f9-3733-45d7-fbdd-96b7e42b71da",
        "colab": {
          "base_uri": "https://localhost:8080/",
          "height": 206
        }
      },
      "outputs": [
        {
          "output_type": "execute_result",
          "data": {
            "text/plain": [
              "   price_predicted  PersonnelInvolved  AcresBurned\n",
              "0     10029.527692              502.0        712.0\n",
              "1     12588.384540              726.0       3166.0\n",
              "2      7048.002526              241.0        441.0\n",
              "3      7379.283100              270.0        673.0\n",
              "4     20196.414274             1392.0       4883.0"
            ],
            "text/html": [
              "\n",
              "  <div id=\"df-4d20a136-cfef-4890-b339-c22bbc45f46f\" class=\"colab-df-container\">\n",
              "    <div>\n",
              "<style scoped>\n",
              "    .dataframe tbody tr th:only-of-type {\n",
              "        vertical-align: middle;\n",
              "    }\n",
              "\n",
              "    .dataframe tbody tr th {\n",
              "        vertical-align: top;\n",
              "    }\n",
              "\n",
              "    .dataframe thead th {\n",
              "        text-align: right;\n",
              "    }\n",
              "</style>\n",
              "<table border=\"1\" class=\"dataframe\">\n",
              "  <thead>\n",
              "    <tr style=\"text-align: right;\">\n",
              "      <th></th>\n",
              "      <th>price_predicted</th>\n",
              "      <th>PersonnelInvolved</th>\n",
              "      <th>AcresBurned</th>\n",
              "    </tr>\n",
              "  </thead>\n",
              "  <tbody>\n",
              "    <tr>\n",
              "      <th>0</th>\n",
              "      <td>10029.527692</td>\n",
              "      <td>502.0</td>\n",
              "      <td>712.0</td>\n",
              "    </tr>\n",
              "    <tr>\n",
              "      <th>1</th>\n",
              "      <td>12588.384540</td>\n",
              "      <td>726.0</td>\n",
              "      <td>3166.0</td>\n",
              "    </tr>\n",
              "    <tr>\n",
              "      <th>2</th>\n",
              "      <td>7048.002526</td>\n",
              "      <td>241.0</td>\n",
              "      <td>441.0</td>\n",
              "    </tr>\n",
              "    <tr>\n",
              "      <th>3</th>\n",
              "      <td>7379.283100</td>\n",
              "      <td>270.0</td>\n",
              "      <td>673.0</td>\n",
              "    </tr>\n",
              "    <tr>\n",
              "      <th>4</th>\n",
              "      <td>20196.414274</td>\n",
              "      <td>1392.0</td>\n",
              "      <td>4883.0</td>\n",
              "    </tr>\n",
              "  </tbody>\n",
              "</table>\n",
              "</div>\n",
              "    <div class=\"colab-df-buttons\">\n",
              "\n",
              "  <div class=\"colab-df-container\">\n",
              "    <button class=\"colab-df-convert\" onclick=\"convertToInteractive('df-4d20a136-cfef-4890-b339-c22bbc45f46f')\"\n",
              "            title=\"Convert this dataframe to an interactive table.\"\n",
              "            style=\"display:none;\">\n",
              "\n",
              "  <svg xmlns=\"http://www.w3.org/2000/svg\" height=\"24px\" viewBox=\"0 -960 960 960\">\n",
              "    <path d=\"M120-120v-720h720v720H120Zm60-500h600v-160H180v160Zm220 220h160v-160H400v160Zm0 220h160v-160H400v160ZM180-400h160v-160H180v160Zm440 0h160v-160H620v160ZM180-180h160v-160H180v160Zm440 0h160v-160H620v160Z\"/>\n",
              "  </svg>\n",
              "    </button>\n",
              "\n",
              "  <style>\n",
              "    .colab-df-container {\n",
              "      display:flex;\n",
              "      gap: 12px;\n",
              "    }\n",
              "\n",
              "    .colab-df-convert {\n",
              "      background-color: #E8F0FE;\n",
              "      border: none;\n",
              "      border-radius: 50%;\n",
              "      cursor: pointer;\n",
              "      display: none;\n",
              "      fill: #1967D2;\n",
              "      height: 32px;\n",
              "      padding: 0 0 0 0;\n",
              "      width: 32px;\n",
              "    }\n",
              "\n",
              "    .colab-df-convert:hover {\n",
              "      background-color: #E2EBFA;\n",
              "      box-shadow: 0px 1px 2px rgba(60, 64, 67, 0.3), 0px 1px 3px 1px rgba(60, 64, 67, 0.15);\n",
              "      fill: #174EA6;\n",
              "    }\n",
              "\n",
              "    .colab-df-buttons div {\n",
              "      margin-bottom: 4px;\n",
              "    }\n",
              "\n",
              "    [theme=dark] .colab-df-convert {\n",
              "      background-color: #3B4455;\n",
              "      fill: #D2E3FC;\n",
              "    }\n",
              "\n",
              "    [theme=dark] .colab-df-convert:hover {\n",
              "      background-color: #434B5C;\n",
              "      box-shadow: 0px 1px 3px 1px rgba(0, 0, 0, 0.15);\n",
              "      filter: drop-shadow(0px 1px 2px rgba(0, 0, 0, 0.3));\n",
              "      fill: #FFFFFF;\n",
              "    }\n",
              "  </style>\n",
              "\n",
              "    <script>\n",
              "      const buttonEl =\n",
              "        document.querySelector('#df-4d20a136-cfef-4890-b339-c22bbc45f46f button.colab-df-convert');\n",
              "      buttonEl.style.display =\n",
              "        google.colab.kernel.accessAllowed ? 'block' : 'none';\n",
              "\n",
              "      async function convertToInteractive(key) {\n",
              "        const element = document.querySelector('#df-4d20a136-cfef-4890-b339-c22bbc45f46f');\n",
              "        const dataTable =\n",
              "          await google.colab.kernel.invokeFunction('convertToInteractive',\n",
              "                                                    [key], {});\n",
              "        if (!dataTable) return;\n",
              "\n",
              "        const docLinkHtml = 'Like what you see? Visit the ' +\n",
              "          '<a target=\"_blank\" href=https://colab.research.google.com/notebooks/data_table.ipynb>data table notebook</a>'\n",
              "          + ' to learn more about interactive tables.';\n",
              "        element.innerHTML = '';\n",
              "        dataTable['output_type'] = 'display_data';\n",
              "        await google.colab.output.renderOutput(dataTable, element);\n",
              "        const docLink = document.createElement('div');\n",
              "        docLink.innerHTML = docLinkHtml;\n",
              "        element.appendChild(docLink);\n",
              "      }\n",
              "    </script>\n",
              "  </div>\n",
              "\n",
              "\n",
              "<div id=\"df-a303482f-3f39-43af-a5f5-4f06b21da840\">\n",
              "  <button class=\"colab-df-quickchart\" onclick=\"quickchart('df-a303482f-3f39-43af-a5f5-4f06b21da840')\"\n",
              "            title=\"Suggest charts\"\n",
              "            style=\"display:none;\">\n",
              "\n",
              "<svg xmlns=\"http://www.w3.org/2000/svg\" height=\"24px\"viewBox=\"0 0 24 24\"\n",
              "     width=\"24px\">\n",
              "    <g>\n",
              "        <path d=\"M19 3H5c-1.1 0-2 .9-2 2v14c0 1.1.9 2 2 2h14c1.1 0 2-.9 2-2V5c0-1.1-.9-2-2-2zM9 17H7v-7h2v7zm4 0h-2V7h2v10zm4 0h-2v-4h2v4z\"/>\n",
              "    </g>\n",
              "</svg>\n",
              "  </button>\n",
              "\n",
              "<style>\n",
              "  .colab-df-quickchart {\n",
              "      --bg-color: #E8F0FE;\n",
              "      --fill-color: #1967D2;\n",
              "      --hover-bg-color: #E2EBFA;\n",
              "      --hover-fill-color: #174EA6;\n",
              "      --disabled-fill-color: #AAA;\n",
              "      --disabled-bg-color: #DDD;\n",
              "  }\n",
              "\n",
              "  [theme=dark] .colab-df-quickchart {\n",
              "      --bg-color: #3B4455;\n",
              "      --fill-color: #D2E3FC;\n",
              "      --hover-bg-color: #434B5C;\n",
              "      --hover-fill-color: #FFFFFF;\n",
              "      --disabled-bg-color: #3B4455;\n",
              "      --disabled-fill-color: #666;\n",
              "  }\n",
              "\n",
              "  .colab-df-quickchart {\n",
              "    background-color: var(--bg-color);\n",
              "    border: none;\n",
              "    border-radius: 50%;\n",
              "    cursor: pointer;\n",
              "    display: none;\n",
              "    fill: var(--fill-color);\n",
              "    height: 32px;\n",
              "    padding: 0;\n",
              "    width: 32px;\n",
              "  }\n",
              "\n",
              "  .colab-df-quickchart:hover {\n",
              "    background-color: var(--hover-bg-color);\n",
              "    box-shadow: 0 1px 2px rgba(60, 64, 67, 0.3), 0 1px 3px 1px rgba(60, 64, 67, 0.15);\n",
              "    fill: var(--button-hover-fill-color);\n",
              "  }\n",
              "\n",
              "  .colab-df-quickchart-complete:disabled,\n",
              "  .colab-df-quickchart-complete:disabled:hover {\n",
              "    background-color: var(--disabled-bg-color);\n",
              "    fill: var(--disabled-fill-color);\n",
              "    box-shadow: none;\n",
              "  }\n",
              "\n",
              "  .colab-df-spinner {\n",
              "    border: 2px solid var(--fill-color);\n",
              "    border-color: transparent;\n",
              "    border-bottom-color: var(--fill-color);\n",
              "    animation:\n",
              "      spin 1s steps(1) infinite;\n",
              "  }\n",
              "\n",
              "  @keyframes spin {\n",
              "    0% {\n",
              "      border-color: transparent;\n",
              "      border-bottom-color: var(--fill-color);\n",
              "      border-left-color: var(--fill-color);\n",
              "    }\n",
              "    20% {\n",
              "      border-color: transparent;\n",
              "      border-left-color: var(--fill-color);\n",
              "      border-top-color: var(--fill-color);\n",
              "    }\n",
              "    30% {\n",
              "      border-color: transparent;\n",
              "      border-left-color: var(--fill-color);\n",
              "      border-top-color: var(--fill-color);\n",
              "      border-right-color: var(--fill-color);\n",
              "    }\n",
              "    40% {\n",
              "      border-color: transparent;\n",
              "      border-right-color: var(--fill-color);\n",
              "      border-top-color: var(--fill-color);\n",
              "    }\n",
              "    60% {\n",
              "      border-color: transparent;\n",
              "      border-right-color: var(--fill-color);\n",
              "    }\n",
              "    80% {\n",
              "      border-color: transparent;\n",
              "      border-right-color: var(--fill-color);\n",
              "      border-bottom-color: var(--fill-color);\n",
              "    }\n",
              "    90% {\n",
              "      border-color: transparent;\n",
              "      border-bottom-color: var(--fill-color);\n",
              "    }\n",
              "  }\n",
              "</style>\n",
              "\n",
              "  <script>\n",
              "    async function quickchart(key) {\n",
              "      const quickchartButtonEl =\n",
              "        document.querySelector('#' + key + ' button');\n",
              "      quickchartButtonEl.disabled = true;  // To prevent multiple clicks.\n",
              "      quickchartButtonEl.classList.add('colab-df-spinner');\n",
              "      try {\n",
              "        const charts = await google.colab.kernel.invokeFunction(\n",
              "            'suggestCharts', [key], {});\n",
              "      } catch (error) {\n",
              "        console.error('Error during call to suggestCharts:', error);\n",
              "      }\n",
              "      quickchartButtonEl.classList.remove('colab-df-spinner');\n",
              "      quickchartButtonEl.classList.add('colab-df-quickchart-complete');\n",
              "    }\n",
              "    (() => {\n",
              "      let quickchartButtonEl =\n",
              "        document.querySelector('#df-a303482f-3f39-43af-a5f5-4f06b21da840 button');\n",
              "      quickchartButtonEl.style.display =\n",
              "        google.colab.kernel.accessAllowed ? 'block' : 'none';\n",
              "    })();\n",
              "  </script>\n",
              "</div>\n",
              "\n",
              "    </div>\n",
              "  </div>\n"
            ],
            "application/vnd.google.colaboratory.intrinsic+json": {
              "type": "dataframe",
              "variable_name": "combined",
              "summary": "{\n  \"name\": \"combined\",\n  \"rows\": 68,\n  \"fields\": [\n    {\n      \"column\": \"price_predicted\",\n      \"properties\": {\n        \"dtype\": \"number\",\n        \"std\": 6851.387974735836,\n        \"min\": 4294.946721505166,\n        \"max\": 39707.6977366722,\n        \"num_unique_values\": 61,\n        \"samples\": [\n          10029.527692348343,\n          9172.767587142689,\n          7253.624951482025\n        ],\n        \"semantic_type\": \"\",\n        \"description\": \"\"\n      }\n    },\n    {\n      \"column\": \"PersonnelInvolved\",\n      \"properties\": {\n        \"dtype\": \"number\",\n        \"std\": 599.7642688811284,\n        \"min\": 0.0,\n        \"max\": 3100.0,\n        \"num_unique_values\": 61,\n        \"samples\": [\n          502.0,\n          427.0,\n          259.0\n        ],\n        \"semantic_type\": \"\",\n        \"description\": \"\"\n      }\n    },\n    {\n      \"column\": \"AcresBurned\",\n      \"properties\": {\n        \"dtype\": \"number\",\n        \"std\": 20826.93875695496,\n        \"min\": 13.0,\n        \"max\": 153336.0,\n        \"num_unique_values\": 63,\n        \"samples\": [\n          65.0,\n          10296.0,\n          712.0\n        ],\n        \"semantic_type\": \"\",\n        \"description\": \"\"\n      }\n    }\n  ]\n}"
            }
          },
          "metadata": {},
          "execution_count": 28
        }
      ],
      "source": [
        "# put predicted values in a frame\n",
        "predicted = pd.DataFrame(y_predicted, columns=['price_predicted'])\n",
        "\n",
        "# combine the test data and the predicted data\n",
        "combined = predicted.join([x_test.reset_index(drop=True),\n",
        "                           y_test.reset_index(drop=True)])\n",
        "\n",
        "# show combined\n",
        "combined.head()"
      ]
    },
    {
      "cell_type": "code",
      "source": [
        "#melt the data in order to improve some of the visualizations\n",
        "# melt price and price_predicted columns into a single column\n",
        "#melted = pd.melt(combined, id_vars=['sqft_living'],\n",
        "                 #value_vars=['price','price_predicted'],\n",
        "                 #var_name='price_type', value_name='price_value')\n",
        "#melted.head()"
      ],
      "metadata": {
        "id": "3BKDQ5XG8uyk"
      },
      "execution_count": null,
      "outputs": []
    },
    {
      "cell_type": "code",
      "source": [
        "# Sort by 'sqft_living' in ascending order and display the top rows in order to see the results of melting the dataframe better\n",
        "#melted_sorted = melted.sort_values(by='sqft_living', ascending=True)  # Change to False for descending\n",
        "#melted_sorted.head()"
      ],
      "metadata": {
        "id": "qCWlvxl59QN6"
      },
      "execution_count": null,
      "outputs": []
    },
    {
      "cell_type": "code",
      "execution_count": null,
      "metadata": {
        "id": "qcXFp1vljYkJ"
      },
      "outputs": [],
      "source": [
        "#relationship plot\n",
        "#sns.relplot(data=melted, x='sqft_living', y='price_value',\n",
        "            #hue='price_type')"
      ]
    },
    {
      "cell_type": "markdown",
      "metadata": {
        "id": "JhbwgW05jYkJ"
      },
      "source": [
        "## How to plot the residuals"
      ]
    },
    {
      "cell_type": "code",
      "execution_count": null,
      "metadata": {
        "id": "BBZa7oEdjYkJ"
      },
      "outputs": [],
      "source": [
        "#combined['residual'] = combined.price - combined.price_predicted\n",
        "#combined.head()"
      ]
    },
    {
      "cell_type": "code",
      "execution_count": null,
      "metadata": {
        "id": "ocib_USojYkJ"
      },
      "outputs": [],
      "source": [
        "#g = sns.relplot(data=combined, x='sqft_living', y='residual')\n",
        "\n",
        "# draw a horizontal line where the Y axis is 0\n",
        "#for ax in g.axes.flat:\n",
        "    #ax.axhline(0, ls='--')"
      ]
    },
    {
      "cell_type": "markdown",
      "metadata": {
        "id": "jK3GBi8vjYkJ"
      },
      "source": [
        "## How to plot a linear regression"
      ]
    },
    {
      "cell_type": "code",
      "execution_count": null,
      "metadata": {
        "id": "MUpL_RQ2jYkJ"
      },
      "outputs": [],
      "source": [
        "#sns.lmplot(data=housing, x='sqft_living', y='price', ci=None,\n",
        "           #scatter_kws={'s':5}, line_kws={'color':'red'})"
      ]
    },
    {
      "cell_type": "markdown",
      "metadata": {
        "id": "gefTfcyXjYkK"
      },
      "source": [
        "## How to plot a logistic regression"
      ]
    },
    {
      "cell_type": "code",
      "execution_count": null,
      "metadata": {
        "id": "JvvUKjkBjYkK"
      },
      "outputs": [],
      "source": [
        "#sns.lmplot(data=housing, x='price', y='has_basement', ci=None,\n",
        "           #scatter_kws={'s':1}, line_kws={'color':'red'},\n",
        "           #logistic=True)"
      ]
    },
    {
      "cell_type": "markdown",
      "metadata": {
        "id": "_79ox1GkjYkO"
      },
      "source": [
        "## How to plot residuals with Seaborn"
      ]
    },
    {
      "cell_type": "code",
      "execution_count": null,
      "metadata": {
        "id": "Pb0KhPVQjYkO"
      },
      "outputs": [],
      "source": [
        "#sns.residplot(data=housing, x='sqft_living', y='price',\n",
        "              #scatter_kws={'s':5})"
      ]
    }
  ],
  "metadata": {
    "kernelspec": {
      "display_name": "Python 3",
      "language": "python",
      "name": "python3"
    },
    "language_info": {
      "codemirror_mode": {
        "name": "ipython",
        "version": 3
      },
      "file_extension": ".py",
      "mimetype": "text/x-python",
      "name": "python",
      "nbconvert_exporter": "python",
      "pygments_lexer": "ipython3",
      "version": "3.6.5"
    },
    "colab": {
      "provenance": [],
      "include_colab_link": true
    }
  },
  "nbformat": 4,
  "nbformat_minor": 0
}